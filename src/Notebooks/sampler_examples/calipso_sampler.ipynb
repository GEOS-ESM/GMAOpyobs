{
 "cells": [
  {
   "cell_type": "markdown",
   "id": "43252c0f",
   "metadata": {},
   "source": [
    "# Sample MERRA-2 Along a CALIPSO Obrit\n",
    "This is an example showing how to use GMAOpyobs utilities to sample MERRA-2 along a CALIPSO orbit.\n",
    "\n",
    "This assumes that you have cloned GMAOpyobs Github repository, installed it in a directory called \\\\$AERODIR, and have added the following directory to your $PYTHONPATh environment variable:\n",
    "\\\\$AERODIR/install/lib/Python\n",
    "\n",
    "It also assumes you have a grads style control file for the MERRA-2 files. An example of such a file is in this directory called inst3_3d_aer_Nv, and it points to files in a directory called MERRA2_all in this directory.\n",
    "\n",
    "This MERRA-2 Collection contains 3-D aerosol mass mixing ratios\n"
   ]
  },
  {
   "cell_type": "markdown",
   "id": "dc03cbb5",
   "metadata": {},
   "source": [
    "## CALIPSO Example"
   ]
  },
  {
   "cell_type": "code",
   "execution_count": 1,
   "id": "273da6ed-351f-4a36-b0b5-e71bea49e553",
   "metadata": {},
   "outputs": [],
   "source": [
    "import sys\n",
    "sys.path.append('/gpfsm/dnb34/pcastell/workspace/GMAOpyobs_ipynb_examples/GMAOpyobs/install/lib/Python')"
   ]
  },
  {
   "cell_type": "code",
   "execution_count": 3,
   "id": "f422f931",
   "metadata": {},
   "outputs": [],
   "source": [
    "from pyobs.sampler import TRAJECTORY\n",
    "from pyobs.calipso_l2 import CALIPSO_L2"
   ]
  },
  {
   "cell_type": "code",
   "execution_count": 4,
   "id": "16475470",
   "metadata": {},
   "outputs": [],
   "source": [
    "# set up some file names\n",
    "calipsoFile = 'CAL_LID_L2_05kmAPro-Standard-V4-51.2016-08-17T05-02-55ZD.hdf'\n",
    "m2data = 'inst3_3d_aer_Nv'\n",
    "outFile = 'm2_calipso_sampled.nc4'"
   ]
  },
  {
   "cell_type": "code",
   "execution_count": 5,
   "id": "6d37f3c4",
   "metadata": {},
   "outputs": [
    {
     "name": "stdout",
     "output_type": "stream",
     "text": [
      "v Latitude\n",
      "v Longitude\n",
      "v Pressure\n",
      "v Temperature\n",
      "v Total_Backscatter_Coefficient_532\n",
      "v Total_Backscatter_Coefficient_Uncertainty_532\n",
      "v Extinction_Coefficient_532\n",
      "v Extinction_Coefficient_Uncertainty_532\n",
      "shape Latitude (4208, 3)\n",
      "shape Longitude (4208, 3)\n",
      "shape Profile_UTC_Time (4208, 3)\n",
      "shape Pressure (4208, 399)\n",
      "shape Temperature (4208, 399)\n",
      "shape Total_Backscatter_Coefficient_532 (4208, 399)\n",
      "shape Total_Backscatter_Coefficient_Uncertainty_532 (4208, 399)\n",
      "shape Extinction_Coefficient_532 (4208, 399)\n",
      "shape Extinction_Coefficient_Uncertainty_532 (4208, 399)\n",
      "shape nymd (17707264,)\n",
      "shape nhms (17707264,)\n"
     ]
    }
   ],
   "source": [
    "# Read the CALIPSO file, get the lat, lon, times from the file\n",
    "caldata = CALIPSO_L2(calipsoFile)"
   ]
  },
  {
   "cell_type": "code",
   "execution_count": 9,
   "id": "a6621e16",
   "metadata": {},
   "outputs": [],
   "source": [
    "# create a trajectory oject\n",
    "time, lon, lat = caldata.time, caldata.lon[:,1], caldata.lat[:,1]\n",
    "traj = TRAJECTORY(time,lon,lat,m2data)"
   ]
  },
  {
   "cell_type": "code",
   "execution_count": 10,
   "id": "aa6381b0",
   "metadata": {},
   "outputs": [],
   "source": [
    "# sample the MERRA-2 dataset along the trajectory, and return an xarray dataset\n",
    "traj_ds = traj.sample()"
   ]
  },
  {
   "cell_type": "code",
   "execution_count": 11,
   "id": "da1addf1",
   "metadata": {},
   "outputs": [],
   "source": [
    "# write data to a netcdf file\n",
    "traj_ds.to_netcdf(outFile)"
   ]
  },
  {
   "cell_type": "markdown",
   "id": "37d292d7",
   "metadata": {},
   "source": [
    "# Calculate Aerosol Optical Properties on the Sampled Dataset\n",
    "Now that we have the 3-D aerosol mass mixing ratios, we would like to convert this to 3-D total and speciated aerosol optical properties.\n",
    "You will need the aerosol optics tables, and a yaml file describing which files to use.\n",
    "An example yaml file is in this directory called Aod_EOS.m2.yaml\n",
    "It points to optics files located in the directory ExtData in this directory.\n"
   ]
  },
  {
   "cell_type": "code",
   "execution_count": 2,
   "id": "f7fe03a8",
   "metadata": {},
   "outputs": [],
   "source": [
    "from pyobs.aop import G2GAOP"
   ]
  },
  {
   "cell_type": "code",
   "execution_count": 3,
   "id": "9518a525",
   "metadata": {},
   "outputs": [],
   "source": [
    "# set up some filenames\n",
    "configName = 'Aod_EOS.m2.yaml'\n",
    "aerFile = 'm2_calipso_sampled.nc4'"
   ]
  },
  {
   "cell_type": "code",
   "execution_count": 4,
   "id": "1351d558",
   "metadata": {},
   "outputs": [],
   "source": [
    "# read the aerosol data and optical tables\n",
    "config = open(configName)\n",
    "optics = G2GAOP(aerFile,config=config)"
   ]
  },
  {
   "cell_type": "code",
   "execution_count": 5,
   "id": "993f9ca7",
   "metadata": {},
   "outputs": [],
   "source": [
    "# caluclate profiles of total:\n",
    "#        EXT:     aerosol extinction profile\n",
    "#        SCA:     aerosol scattering profile\n",
    "#        BSC:     aerosol backscatter profile\n",
    "#        DEPOL:   aerosol depolarization ratio\n",
    "# at 532 nm\n",
    "ext532 = optics.getAOPext(wavelength=532)"
   ]
  },
  {
   "cell_type": "code",
   "execution_count": 27,
   "id": "a6cf076f-5cab-4e1c-b72b-2e99d02988de",
   "metadata": {},
   "outputs": [],
   "source": [
    "# write this to a file\n",
    "outFile = 'm2_calipso_ext532.nc4'\n",
    "ext532.to_netcdf(outFile)"
   ]
  },
  {
   "cell_type": "code",
   "execution_count": 12,
   "id": "a0daa113-527d-420f-a28b-2e33c66cc465",
   "metadata": {},
   "outputs": [],
   "source": [
    "# calculate profile of EXT, SCA, BSC, and DEPOL for a each species individually at 532 nm\n",
    "ee = []\n",
    "ext532_du = optics.getAOPext(Species='DU',wavelength=532)  # dust\n",
    "ee.append(ext532_du)\n",
    "ext532_su = optics.getAOPext(Species='SU',wavelength=532)  # sulfate\n",
    "ee.append(ext532_su)\n",
    "ext532_ss = optics.getAOPext(Species='SS',wavelength=532)  # sea salt\n",
    "ee.append(ext532_ss)\n",
    "ext532_cc = optics.getAOPext(Species=['OC','BC'],wavelength=532) # organic carbon plus black carbon\n",
    "ee.append(ext532_cc)"
   ]
  },
  {
   "cell_type": "code",
   "execution_count": 13,
   "id": "0d6a0d31-262a-40a3-8f90-79d32dfa2301",
   "metadata": {},
   "outputs": [],
   "source": [
    "# write these to file\n",
    "SPC = ['DU','SU','SS','CC']\n",
    "for spc,ext in zip(SPC,ee):\n",
    "    outFile = 'm2_calipso_ext532_{}.nc4'.format(spc)\n",
    "    ext.to_netcdf(outFile)"
   ]
  },
  {
   "cell_type": "code",
   "execution_count": 14,
   "id": "69442e2a-e34b-4d79-8672-4364094a0e05",
   "metadata": {},
   "outputs": [],
   "source": [
    "# calculate profiles of total:\n",
    "#       AOT: aerosol layer optocal thickness\n",
    "#       SSA: single scattering albedo\n",
    "#       G: assymetry parameter\n",
    "rt532 = optics.getAOPrt(wavelength=532)\n",
    "\n",
    "# per species\n",
    "rt532_du = optics.getAOPrt(Species='DU',wavelength=532)"
   ]
  },
  {
   "cell_type": "code",
   "execution_count": 15,
   "id": "c570d46f-97e2-493b-98e0-65819e77263f",
   "metadata": {},
   "outputs": [],
   "source": [
    "# write these to file\n",
    "outFile = 'm2_calipso_rt532.nc4'\n",
    "rt532.to_netcdf(outFile)"
   ]
  },
  {
   "cell_type": "code",
   "execution_count": null,
   "id": "fc5d7f84-71b8-4794-a266-7b2ad6979777",
   "metadata": {},
   "outputs": [],
   "source": []
  }
 ],
 "metadata": {
  "kernelspec": {
   "display_name": "Python [conda env:sci2]",
   "language": "python",
   "name": "conda-env-sci2-py"
  },
  "language_info": {
   "codemirror_mode": {
    "name": "ipython",
    "version": 3
   },
   "file_extension": ".py",
   "mimetype": "text/x-python",
   "name": "python",
   "nbconvert_exporter": "python",
   "pygments_lexer": "ipython3",
   "version": "3.9.13"
  }
 },
 "nbformat": 4,
 "nbformat_minor": 5
}
