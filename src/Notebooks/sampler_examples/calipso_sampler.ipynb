{
 "cells": [
  {
   "cell_type": "markdown",
   "id": "43252c0f",
   "metadata": {},
   "source": [
    "# Sample MERRA-2 Along a CALIPSO Obrit\n",
    "This is an example showing how to use GMAOpyobs utilities to sample MERRA-2 along a CALIPSO orbit.\n",
    "\n",
    "This assumes that you have cloned GMAOpyobs Github repository, installed it in a directory called \\\\$AERODIR, and have added the following directory to your $PYTHONPATh environment variable:\n",
    "\\\\$AERODIR/install/lib/Python\n",
    "\n",
    "It also assumes you have a grads style control file for the MERRA-2 files. An example of such a file is in this directory called inst3_3d_aer_Nv\n",
    "\n",
    "This MERRA-2 Collection containes 3-D aerosol mass mixing ratios\n"
   ]
  },
  {
   "cell_type": "markdown",
   "id": "dc03cbb5",
   "metadata": {},
   "source": [
    "## CALIPSO Example"
   ]
  },
  {
   "cell_type": "code",
   "execution_count": 1,
   "id": "f422f931",
   "metadata": {},
   "outputs": [],
   "source": [
    "from pyobs.sampler import TRAJECTORY\n",
    "from pyobs.calipso_l1p5 import CALIPSO_L1p5"
   ]
  },
  {
   "cell_type": "code",
   "execution_count": 11,
   "id": "16475470",
   "metadata": {},
   "outputs": [],
   "source": [
    "# set up some file names\n",
    "calipsoFile = 'CAL_LID_L15-Standard-V1-00.2008-11-11T04-34-35ZN.hdf'\n",
    "m2data = 'tavg1_2d_aer_Nx'\n",
    "outFile = 'm2_calipso_sampled.nc4'"
   ]
  },
  {
   "cell_type": "code",
   "execution_count": 3,
   "id": "6d37f3c4",
   "metadata": {},
   "outputs": [
    {
     "name": "stdout",
     "output_type": "stream",
     "text": [
      "shape Latitude (924,)\n",
      "shape Longitude (924,)\n",
      "shape Surface_Elevation_Mean (924,)\n",
      "shape Profile_UTC_Time (924,)\n",
      "shape Pressure (924, 400)\n",
      "shape Temperature (924, 400)\n",
      "shape Total_Attenuated_Backscatter_532_Mean (924, 400)\n",
      "shape Total_Attenuated_Backscatter_Uncertainty_532 (924, 400)\n",
      "shape Perpendicular_Attenuated_Backscatter_532_Mean (924, 400)\n",
      "shape Perpendicular_Attenuated_Backscatter_Uncertainty_532 (924, 400)\n",
      "shape Molecular_Model_Attenuated_Backscatter_532 (924, 400)\n",
      "shape L2_Feature_Type (924, 400, 4)\n",
      "shape nymd (853776,)\n",
      "shape nhms (853776,)\n"
     ]
    }
   ],
   "source": [
    "# Read the CALIPSO file, get the lat, lon, times from the file\n",
    "caldata = CALIPSO_L1p5(calipsoFile)"
   ]
  },
  {
   "cell_type": "code",
   "execution_count": 6,
   "id": "a6621e16",
   "metadata": {},
   "outputs": [],
   "source": [
    "# create a trajectory oject\n",
    "traj = TRAJECTORY(caldata.time,caldata.lon,caldata.lat,m2data)"
   ]
  },
  {
   "cell_type": "code",
   "execution_count": 13,
   "id": "aa6381b0",
   "metadata": {},
   "outputs": [],
   "source": [
    "# sample the MERRA-2 dataset along the trajectory, and return an xarray dataset\n",
    "traj_ds = traj.sample()"
   ]
  },
  {
   "cell_type": "code",
   "execution_count": 14,
   "id": "da1addf1",
   "metadata": {},
   "outputs": [],
   "source": [
    "# write data to a netcdf file\n",
    "traj_ds.to_netcdf(outFile)"
   ]
  },
  {
   "cell_type": "markdown",
   "id": "37d292d7",
   "metadata": {},
   "source": [
    "# Calculate Aerosol Optical Properties on the Sampled Dataset\n",
    "Now that we have the 3-D aerosol mass mixing ratios, we would like to convert this to 3-D total and speciated aerosol optical properties.\n",
    "You will need the aerosol optics tables, and a yaml file describing which files to use.\n",
    "An example yaml file is in this directory called Aod_EOS.yaml"
   ]
  },
  {
   "cell_type": "code",
   "execution_count": 25,
   "id": "f7fe03a8",
   "metadata": {},
   "outputs": [],
   "source": [
    "from pyobs.aop import G2GAOP"
   ]
  },
  {
   "cell_type": "code",
   "execution_count": 26,
   "id": "9518a525",
   "metadata": {},
   "outputs": [],
   "source": [
    "# set up some filenames\n",
    "config = 'Aod_EOS.yaml'\n",
    "aerFile = 'm2_calipso_sampled.nc4'"
   ]
  },
  {
   "cell_type": "code",
   "execution_count": 28,
   "id": "1351d558",
   "metadata": {},
   "outputs": [],
   "source": [
    "# read the aerosol data and optical tables\n",
    "optics = G2GAOP(aerFile,config=config)"
   ]
  },
  {
   "cell_type": "code",
   "execution_count": null,
   "id": "993f9ca7",
   "metadata": {},
   "outputs": [],
   "source": []
  }
 ],
 "metadata": {
  "kernelspec": {
   "display_name": "Python 3 (ipykernel)",
   "language": "python",
   "name": "python3"
  },
  "language_info": {
   "codemirror_mode": {
    "name": "ipython",
    "version": 3
   },
   "file_extension": ".py",
   "mimetype": "text/x-python",
   "name": "python",
   "nbconvert_exporter": "python",
   "pygments_lexer": "ipython3",
   "version": "3.9.9"
  }
 },
 "nbformat": 4,
 "nbformat_minor": 5
}
