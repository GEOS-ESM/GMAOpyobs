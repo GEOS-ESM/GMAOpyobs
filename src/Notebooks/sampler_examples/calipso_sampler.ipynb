{
 "cells": [
  {
   "cell_type": "markdown",
   "id": "43252c0f",
   "metadata": {},
   "source": [
    "# Sample MERRA-2 Along a CALIPSO Obrit\n",
    "This is an example showing how to use GMAOpyobs utilities to sample MERRA-2 along a CALIPSO orbit.\n",
    "\n",
    "This assumes that you have cloned the GMAOpyobs Github repository, installed it in a directory called \\\\$AERODIR, and have added the following directory to your $PYTHONPATh environment variable:\n",
    "\\\\$AERODIR/install/lib/Python\n",
    "\n",
    "It also assumes you have a grads style control file for the MERRA-2 files. An example of such a file is in this directory called inst3_3d_aer_Nv, and it points to files in a directory called MERRA2_all also in this directory.\n",
    "\n",
    "The inst3_3d_aer_Nv MERRA-2 Collection contains 3-D aerosol mass mixing ratios on the native model vertical levels.\n",
    "You will additinally need the inst3_3d_asm_Nv collection that has the temperature vertical profile to calculate total attenuated backscatter.\n",
    "\n",
    "The CALIPSO Level2 file used in this example can be found at https://portal.nccs.nasa.gov/datashare/iesa/campaigns/ASIA-AQ/ipynb_examples/\n",
    "\n",
    "The GEOS aerosol optics files can be found at https://portal.nccs.nasa.gov/datashare/iesa/aerosol/ExtData/\n"
   ]
  },
  {
   "cell_type": "markdown",
   "id": "dc03cbb5",
   "metadata": {},
   "source": [
    "## CALIPSO Example"
   ]
  },
  {
   "cell_type": "code",
   "execution_count": 1,
   "id": "273da6ed-351f-4a36-b0b5-e71bea49e553",
   "metadata": {},
   "outputs": [],
   "source": [
    "# You only need to do this if you're using the discover jupyterhub\n",
    "# if you are, make sure to use the conda env:sci2 kernel\n",
    "import sys\n",
    "sys.path.append('/gpfsm/dnb34/pcastell/workspace/GMAOpyobs_update_notebooks/GMAOpyobs/install/lib/Python')"
   ]
  },
  {
   "cell_type": "code",
   "execution_count": 2,
   "id": "f422f931",
   "metadata": {},
   "outputs": [],
   "source": [
    "from pyobs.sampler import TRAJECTORY\n",
    "from pyobs.calipso_l2 import CALIPSO_L2"
   ]
  },
  {
   "cell_type": "code",
   "execution_count": 3,
   "id": "16475470",
   "metadata": {},
   "outputs": [],
   "source": [
    "# set up some file names\n",
    "calipsoFile = 'CAL_LID_L2_05kmAPro-Standard-V4-51.2016-08-17T05-02-55ZD.hdf'\n",
    "m2data = ['inst3_3d_aer_Nv','inst3_3d_asm_Nv']"
   ]
  },
  {
   "cell_type": "code",
   "execution_count": 4,
   "id": "6d37f3c4",
   "metadata": {},
   "outputs": [
    {
     "name": "stdout",
     "output_type": "stream",
     "text": [
      "[] working on <CAL_LID_L2_05kmAPro-Standard-V4-51.2016-08-17T05-02-55ZD.hdf>\n",
      "v Latitude\n",
      "v Longitude\n",
      "v Pressure\n",
      "v Surface_Elevation_Statistics\n",
      "v Temperature\n",
      "v Total_Backscatter_Coefficient_532\n",
      "v Total_Backscatter_Coefficient_Uncertainty_532\n",
      "v Extinction_Coefficient_532\n",
      "v Extinction_Coefficient_Uncertainty_532\n",
      "shape Latitude (4208, 3)\n",
      "shape Longitude (4208, 3)\n",
      "shape Profile_UTC_Time (4208, 3)\n",
      "shape Pressure (4208, 399)\n",
      "shape Surface_Elevation_Statistics (4208, 4)\n",
      "shape Temperature (4208, 399)\n",
      "shape Total_Backscatter_Coefficient_532 (4208, 399)\n",
      "shape Total_Backscatter_Coefficient_Uncertainty_532 (4208, 399)\n",
      "shape Extinction_Coefficient_532 (4208, 399)\n",
      "shape Extinction_Coefficient_Uncertainty_532 (4208, 399)\n",
      "shape nymd (17707264,)\n",
      "shape nhms (17707264,)\n"
     ]
    }
   ],
   "source": [
    "# Read the CALIPSO file, get the lat, lon, times from the file\n",
    "caldata = CALIPSO_L2(calipsoFile,Verbose=True)"
   ]
  },
  {
   "cell_type": "code",
   "execution_count": 5,
   "id": "a6621e16",
   "metadata": {},
   "outputs": [],
   "source": [
    "# create a trajectory oject\n",
    "time, lon, lat = caldata.time, caldata.lon[:,1], caldata.lat[:,1]\n",
    "traj = TRAJECTORY(time,lon,lat,m2data,verbose=True)"
   ]
  },
  {
   "cell_type": "code",
   "execution_count": 6,
   "id": "aa6381b0",
   "metadata": {},
   "outputs": [
    {
     "name": "stdout",
     "output_type": "stream",
     "text": [
      "[ ] sampling AIRDENS\n",
      "[ ] sampling DELP\n",
      "[ ] sampling PS\n",
      "[ ] sampling RH\n",
      "[ ] sampling T\n",
      "[ ] sampling DU001\n",
      "[ ] sampling DU002\n",
      "[ ] sampling DU003\n",
      "[ ] sampling DU004\n",
      "[ ] sampling DU005\n",
      "[ ] sampling SS001\n",
      "[ ] sampling SS002\n",
      "[ ] sampling SS003\n",
      "[ ] sampling SS004\n",
      "[ ] sampling SS005\n",
      "[ ] sampling BCPHILIC\n",
      "[ ] sampling BCPHOBIC\n",
      "[ ] sampling OCPHILIC\n",
      "[ ] sampling OCPHOBIC\n",
      "[ ] sampling SO4\n"
     ]
    }
   ],
   "source": [
    "# sample the MERRA-2 dataset along the trajectory, and return an xarray dataset\n",
    "du = ['DU001','DU002','DU003','DU004','DU005']\n",
    "ss = ['SS001','SS002','SS003','SS004','SS005']\n",
    "bc = ['BCPHILIC','BCPHOBIC']\n",
    "oc = ['OCPHILIC','OCPHOBIC']\n",
    "su = ['SO4']\n",
    "met = ['AIRDENS','DELP','PS','RH','T']\n",
    "Variables = met + du + ss + bc + oc + su\n",
    "traj_ds = traj.sample(Variables=Variables)"
   ]
  },
  {
   "cell_type": "code",
   "execution_count": 7,
   "id": "da1addf1",
   "metadata": {},
   "outputs": [],
   "source": [
    "# because we are using xarray with dask, until now everything has been lazy loaded\n",
    "# this step actually does the interpolation calulation and takes about 1 min\n",
    "traj_ds = traj_ds.compute()"
   ]
  },
  {
   "cell_type": "code",
   "execution_count": 8,
   "id": "061bca25-fc78-427b-b77c-149df01f567e",
   "metadata": {},
   "outputs": [],
   "source": [
    "# optional: you can write sampled data to a netcdf file\n",
    "outFile = 'm2_calipso_sampled.nc4'\n",
    "comp = dict(zlib=True)\n",
    "encoding = {var: comp for var in traj_ds.data_vars}\n",
    "traj_ds.to_netcdf(outFile,engine='netcdf4',encoding=encoding)"
   ]
  },
  {
   "cell_type": "markdown",
   "id": "37d292d7",
   "metadata": {},
   "source": [
    "# Calculate Aerosol Optical Properties on the Sampled Dataset\n",
    "Now that we have the 3-D aerosol mass mixing ratios, we would like to convert this to 3-D total and speciated aerosol optical properties.\n",
    "You will need the aerosol optics tables, and a yaml file describing which files to use.\n",
    "An example yaml file called m2_pm25.yaml can be found in the  directory GMAOpyobs/src/config. \n",
    "It points to optics files located in the directory ExtData.\n"
   ]
  },
  {
   "cell_type": "code",
   "execution_count": 9,
   "id": "f7fe03a8",
   "metadata": {},
   "outputs": [],
   "source": [
    "from pyobs.aop import G2GAOP"
   ]
  },
  {
   "cell_type": "code",
   "execution_count": 10,
   "id": "9518a525",
   "metadata": {},
   "outputs": [],
   "source": [
    "# set up some filenames\n",
    "# this configuration file can be found in src/config\n",
    "config = 'm2_pm25.yaml'"
   ]
  },
  {
   "cell_type": "code",
   "execution_count": 11,
   "id": "1351d558",
   "metadata": {},
   "outputs": [],
   "source": [
    "# read the sampled aerosol profile data and optical tables\n",
    "optics = G2GAOP(traj_ds,config=config)"
   ]
  },
  {
   "cell_type": "code",
   "execution_count": 12,
   "id": "993f9ca7",
   "metadata": {},
   "outputs": [],
   "source": [
    "# caluclate profiles of total:\n",
    "#        EXT:     aerosol extinction profile\n",
    "#        SCA:     aerosol scattering profile\n",
    "#        BSC:     aerosol backscatter profile\n",
    "#        DEPOL:   aerosol depolarization ratio\n",
    "#        ABACKTOA: total attenuated backscatter from the TOA\n",
    "#        ABACKSFC: total attenuated backscatter from the surface\n",
    "# at 532 nm\n",
    "ext532 = optics.getAOPext(wavelength=532)"
   ]
  },
  {
   "cell_type": "code",
   "execution_count": 13,
   "id": "a6cf076f-5cab-4e1c-b72b-2e99d02988de",
   "metadata": {},
   "outputs": [],
   "source": [
    "# optional: you can write this to a netcdf file\n",
    "outFile = 'm2_calipso_ext532.nc4'\n",
    "encoding = {var: comp for var in ext532.data_vars}\n",
    "ext532.to_netcdf(outFile,engine='netcdf4',encoding=encoding)"
   ]
  },
  {
   "cell_type": "code",
   "execution_count": 14,
   "id": "a0daa113-527d-420f-a28b-2e33c66cc465",
   "metadata": {},
   "outputs": [],
   "source": [
    "# This shows how to calculate the 532 nm AOPs for individual species \n",
    "ee = []\n",
    "ext532_du = optics.getAOPext(Species='DU',wavelength=532)  # dust\n",
    "ee.append(ext532_du)\n",
    "ext532_su = optics.getAOPext(Species='SU',wavelength=532)  # sulfate\n",
    "ee.append(ext532_su)\n",
    "ext532_ss = optics.getAOPext(Species='SS',wavelength=532)  # sea salt\n",
    "ee.append(ext532_ss)\n",
    "ext532_cc = optics.getAOPext(Species=['OC','BC'],wavelength=532) # organic carbon plus black carbon\n",
    "ee.append(ext532_cc)"
   ]
  },
  {
   "cell_type": "code",
   "execution_count": 15,
   "id": "0d6a0d31-262a-40a3-8f90-79d32dfa2301",
   "metadata": {},
   "outputs": [],
   "source": [
    "# optional: you can write these to a netcdf file\n",
    "SPC = ['DU','SU','SS','CC']\n",
    "for spc,ext in zip(SPC,ee):\n",
    "    outFile = 'm2_calipso_ext532_{}.nc4'.format(spc)\n",
    "    encoding = {var: comp for var in ext.data_vars}\n",
    "    ext.to_netcdf(outFile,engine='netcdf4',encoding=encoding)"
   ]
  },
  {
   "cell_type": "code",
   "execution_count": 16,
   "id": "69442e2a-e34b-4d79-8672-4364094a0e05",
   "metadata": {},
   "outputs": [],
   "source": [
    "# calculate profiles of total:\n",
    "#       AOT: aerosol layer optocal thickness\n",
    "#       SSA: single scattering albedo\n",
    "#       G: assymetry parameter\n",
    "rt532 = optics.getAOPrt(wavelength=532)\n",
    "\n",
    "# For one species: Dust\n",
    "rt532_du = optics.getAOPrt(Species='DU',wavelength=532)"
   ]
  },
  {
   "cell_type": "code",
   "execution_count": 17,
   "id": "c570d46f-97e2-493b-98e0-65819e77263f",
   "metadata": {},
   "outputs": [],
   "source": [
    "# optional: write these to a netcdf file\n",
    "outFile = 'm2_calipso_rt532.nc4'\n",
    "encoding = {var: comp for var in rt532.data_vars}\n",
    "rt532.to_netcdf(outFile,engine='netcdf4',encoding=encoding)"
   ]
  },
  {
   "cell_type": "markdown",
   "id": "3d78cb13-e8f3-4db8-9e56-13398cadbfa7",
   "metadata": {},
   "source": [
    "## Compare MERRA-2 532 nm Extinction Profile to CALIPSO Retrieval"
   ]
  },
  {
   "cell_type": "code",
   "execution_count": 18,
   "id": "58031a6f-7249-4e58-ade6-42cef7ab6d60",
   "metadata": {},
   "outputs": [],
   "source": [
    "import matplotlib.pyplot as plt\n",
    "from pyobs.sampler import addVertCoord"
   ]
  },
  {
   "cell_type": "code",
   "execution_count": 19,
   "id": "914b4ddb-31f8-490b-9516-5d5cd870f0ea",
   "metadata": {},
   "outputs": [
    {
     "data": {
      "text/plain": [
       "<matplotlib.colorbar.Colorbar at 0x14ea110a1910>"
      ]
     },
     "execution_count": 19,
     "metadata": {},
     "output_type": "execute_result"
    },
    {
     "data": {
      "image/png": "[encoded data removed]",
      "text/plain": [
       "<Figure size 1500x1000 with 2 Axes>"
      ]
     },
     "metadata": {},
     "output_type": "display_data"
    }
   ],
   "source": [
    "# Plot CALIPSO 532 nm Extinction\n",
    "\n",
    "# Get the CALIPSO vertical coordinate\n",
    "npts, nstats = caldata.surfelev.shape\n",
    "nlev = len(caldata.alt)\n",
    "caldata.z = np.transpose(caldata.surfelev[:,2] + np.repeat(caldata.alt.reshape(nlev,1),npts,axis=1))\n",
    "\n",
    "# Get time coordinate\n",
    "time = caldata.time\n",
    "ntime = len(time)\n",
    "time = np.repeat(time.reshape(ntime,1),nlev,axis=1)\n",
    "\n",
    "# Plotting part\n",
    "fig, ax = plt.subplots(figsize=(15, 10))\n",
    "im = ax.contourf(time,caldata.z,caldata.ext)\n",
    "ax.set_ylim(0,10)\n",
    "plt.colorbar(im,ax=ax)"
   ]
  },
  {
   "cell_type": "code",
   "execution_count": 20,
   "id": "87323289-0c7e-4702-b866-164f043b2711",
   "metadata": {},
   "outputs": [
    {
     "data": {
      "text/plain": [
       "<matplotlib.colorbar.Colorbar at 0x14ea10e9cfe0>"
      ]
     },
     "execution_count": 20,
     "metadata": {},
     "output_type": "execute_result"
    },
    {
     "data": {
      "image/png": "[encoded data removed]",
      "text/plain": [
       "<Figure size 1500x1000 with 2 Axes>"
      ]
     },
     "metadata": {},
     "output_type": "display_data"
    }
   ],
   "source": [
    "# Plot MERRA-2 Extinction\n",
    "\n",
    "# Get MERRA-2 vertical coordinate\n",
    "ext532.pipe(addVertCoord)\n",
    "\n",
    "# Get time coordinate\n",
    "time = ext532.time.values\n",
    "ntime = ext532.sizes['time']\n",
    "nlev = ext532.sizes['lev']\n",
    "time = np.repeat(time.reshape(ntime,1),nlev,axis=1)\n",
    "\n",
    "# plotting part\n",
    "fig, ax = plt.subplots(figsize=(15, 10))\n",
    "im = ax.contourf(time,ext532.Z,ext532.EXT)\n",
    "ax.set_ylim(0,10)\n",
    "plt.colorbar(im,ax=ax)"
   ]
  }
 ],
 "metadata": {
  "kernelspec": {
   "display_name": "Python [conda env:base]",
   "language": "python",
   "name": "conda-base-py"
  },
  "language_info": {
   "codemirror_mode": {
    "name": "ipython",
    "version": 3
   },
   "file_extension": ".py",
   "mimetype": "text/x-python",
   "name": "python",
   "nbconvert_exporter": "python",
   "pygments_lexer": "ipython3",
   "version": "3.12.5"
  }
 },
 "nbformat": 4,
 "nbformat_minor": 5
}
