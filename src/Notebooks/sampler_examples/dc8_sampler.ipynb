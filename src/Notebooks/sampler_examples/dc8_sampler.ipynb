{
 "cells": [
  {
   "cell_type": "markdown",
   "id": "8eb19435",
   "metadata": {},
   "source": [
    "# Sample MERRA-2 Along an Aircraft Trajectory\n",
    "This is an example showing how to use GMAOpyobs utilities to sample MERRA-2 along an aircraft trajectory described by an ICARTT format file.\n",
    "\n",
    "This assumes that you have cloned GMAOpyobs Github repository, installed it in a directory called \\\\$AERODIR, and have added the following directory to your $PYTHONPATh environment variable:\n",
    "\\\\$AERODIR/install/lib/Python\n",
    "\n",
    "It also assumes you have the following grads style control file for the MERRA-2 files in your directory:\n",
    "inst3_3d_aer_Nv\n",
    "\n",
    "This MERRA-2 Collection containes 3-D aerosol mass mixing ratios"
   ]
  },
  {
   "cell_type": "code",
   "execution_count": 3,
   "id": "c60c3d74",
   "metadata": {},
   "outputs": [],
   "source": [
    "#DC-8 Example\n",
    "from pyobs.sampler import TRAJECTORY\n",
    "from pyobs.icartt import ICARTT"
   ]
  },
  {
   "cell_type": "code",
   "execution_count": 7,
   "id": "7d6a0b89",
   "metadata": {},
   "outputs": [],
   "source": [
    "# set up some file names\n",
    "ictFile = 'firexaq-mrg60-dc8_merge_20190729_RH.ict'\n",
    "m2data = 'inst3_3d_aer_Nv'\n",
    "outFile = 'm2_ict_sampled.nc4'"
   ]
  },
  {
   "cell_type": "code",
   "execution_count": 5,
   "id": "421541cb",
   "metadata": {},
   "outputs": [],
   "source": [
    "# Read ICART file and get lon, lat, tyme\n",
    "m = ICARTT(ictFile)\n",
    "lon, lat, tyme = m.Nav['Longitude'], m.Nav['Latitude'], m.Nav['Time']"
   ]
  },
  {
   "cell_type": "code",
   "execution_count": 8,
   "id": "877a7561",
   "metadata": {},
   "outputs": [],
   "source": [
    "# create a trajectory oject\n",
    "traj = TRAJECTORY(tyme,lon,lat,m2data)"
   ]
  },
  {
   "cell_type": "code",
   "execution_count": 9,
   "id": "798add7f",
   "metadata": {},
   "outputs": [],
   "source": [
    "# sample the MERRA-2 dataset along the trajectory, and return an xarray dataset\n",
    "traj_ds = traj.sample()"
   ]
  },
  {
   "cell_type": "code",
   "execution_count": 10,
   "id": "0e8faed7",
   "metadata": {},
   "outputs": [],
   "source": [
    "# write data to a netcdf file\n",
    "traj_ds.to_netcdf(outFile)"
   ]
  },
  {
   "cell_type": "code",
   "execution_count": null,
   "id": "07d93269",
   "metadata": {},
   "outputs": [],
   "source": []
  }
 ],
 "metadata": {
  "kernelspec": {
   "display_name": "Python 3 (ipykernel)",
   "language": "python",
   "name": "python3"
  },
  "language_info": {
   "codemirror_mode": {
    "name": "ipython",
    "version": 3
   },
   "file_extension": ".py",
   "mimetype": "text/x-python",
   "name": "python",
   "nbconvert_exporter": "python",
   "pygments_lexer": "ipython3",
   "version": "3.9.9"
  }
 },
 "nbformat": 4,
 "nbformat_minor": 5
}
